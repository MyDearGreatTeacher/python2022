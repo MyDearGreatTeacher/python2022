{
  "nbformat": 4,
  "nbformat_minor": 0,
  "metadata": {
    "colab": {
      "provenance": [],
      "collapsed_sections": []
    },
    "kernelspec": {
      "name": "python3",
      "display_name": "Python 3"
    },
    "language_info": {
      "name": "python"
    }
  },
  "cells": [
    {
      "cell_type": "code",
      "source": [
        "!wget https://raw.githubusercontent.com/MyDearGreatTeacher/python2022/main/%E6%95%99%E7%A7%91%E6%9B%B8/Ch07/PPAP.txt"
      ],
      "metadata": {
        "colab": {
          "base_uri": "https://localhost:8080/"
        },
        "id": "vJDvtUBr12ra",
        "outputId": "4528c59c-a343-47a5-a219-3ac023d54419"
      },
      "execution_count": 8,
      "outputs": [
        {
          "output_type": "stream",
          "name": "stdout",
          "text": [
            "--2022-10-31 11:41:46--  https://raw.githubusercontent.com/MyDearGreatTeacher/python2022/main/%E6%95%99%E7%A7%91%E6%9B%B8/Ch07/PPAP.txt\n",
            "Resolving raw.githubusercontent.com (raw.githubusercontent.com)... 185.199.108.133, 185.199.109.133, 185.199.110.133, ...\n",
            "Connecting to raw.githubusercontent.com (raw.githubusercontent.com)|185.199.108.133|:443... connected.\n",
            "HTTP request sent, awaiting response... 200 OK\n",
            "Length: 140 [text/plain]\n",
            "Saving to: ‘PPAP.txt’\n",
            "\n",
            "\rPPAP.txt              0%[                    ]       0  --.-KB/s               \rPPAP.txt            100%[===================>]     140  --.-KB/s    in 0s      \n",
            "\n",
            "2022-10-31 11:41:46 (6.04 MB/s) - ‘PPAP.txt’ saved [140/140]\n",
            "\n"
          ]
        }
      ]
    },
    {
      "cell_type": "code",
      "source": [
        "cat PPAP.txt "
      ],
      "metadata": {
        "colab": {
          "base_uri": "https://localhost:8080/"
        },
        "id": "tbOzjYWN2cbB",
        "outputId": "fbae8423-dd02-4bad-d5ca-e27d1f20c8a0"
      },
      "execution_count": 9,
      "outputs": [
        {
          "output_type": "stream",
          "name": "stdout",
          "text": [
            "I have a pen. I have an apple, Apple pen. I have a pen. I have pineapple. pineapple pen, Apple pen, Pineapple pen, Pen pineapple, apple pen."
          ]
        }
      ]
    },
    {
      "cell_type": "code",
      "source": [
        "import os.path\n",
        "import sys\n",
        "\n",
        "sourcefile = input(\"請輸入來源檔案名稱 (*.txt)：\")\n",
        "targetfile = input(\"請輸入目的檔案名稱 (*.txt)：\")\n",
        "\n",
        "if os.path.isfile(targetfile):\n",
        "    print(\"目的檔案已經存在，取消複製檔案！\")\n",
        "    sys.exit()\n",
        "\n",
        "fileObject1 = open(sourcefile, \"r\")\n",
        "fileObject2 = open(targetfile, \"w\")\n",
        "\n",
        "content = fileObject1.read()\n",
        "fileObject2.write(content)\n",
        "\n",
        "fileObject1.close()\n",
        "fileObject2.close()"
      ],
      "metadata": {
        "colab": {
          "base_uri": "https://localhost:8080/"
        },
        "id": "JDcSWtbZ2-BS",
        "outputId": "d0a1bcc3-e8aa-4f33-cb47-14ca8bc0390e"
      },
      "execution_count": 10,
      "outputs": [
        {
          "name": "stdout",
          "output_type": "stream",
          "text": [
            "請輸入來源檔案名稱 (*.txt)：PPAP.txt\n",
            "請輸入目的檔案名稱 (*.txt)：PPAP2.txt\n"
          ]
        }
      ]
    },
    {
      "cell_type": "code",
      "source": [
        "ls"
      ],
      "metadata": {
        "colab": {
          "base_uri": "https://localhost:8080/"
        },
        "id": "BntWb1_i3G6K",
        "outputId": "e1f776b0-f3f3-4ec3-aa37-c1415a2566c0"
      },
      "execution_count": 11,
      "outputs": [
        {
          "output_type": "stream",
          "name": "stdout",
          "text": [
            "poem.txt  poem.txt.1  poem.txt.2  PPAP2.txt  PPAP.txt  \u001b[0m\u001b[01;34msample_data\u001b[0m/\n"
          ]
        }
      ]
    },
    {
      "cell_type": "code",
      "source": [
        "# 使用 \"a\" 模式開啟檔案以將資料附加到原檔案內容的後面\n",
        "fileObject = open(\"./poem2.txt\", \"a\")\n",
        "\n",
        "# 寫入檔案，\\n 字元表示換行\n",
        "fileObject.write(\"\\n鳳凰臺上鳳凰遊，鳳去臺空江自流。\")\n",
        "fileObject.write(\"\\n吳宮花草埋幽徑，晉代衣冠成古邱。\")\n",
        "fileObject.write(\"\\n三山半落青又外，二水中分白鷺洲。\")\n",
        "fileObject.write(\"\\n總為浮雲能蔽日，長安不見使人愁。\")\n",
        "\n",
        "# 關閉檔案\n",
        "fileObject.close()"
      ],
      "metadata": {
        "id": "zHFgZ6Gf5Jmq"
      },
      "execution_count": 15,
      "outputs": []
    },
    {
      "cell_type": "code",
      "source": [
        "ls"
      ],
      "metadata": {
        "colab": {
          "base_uri": "https://localhost:8080/"
        },
        "id": "Teo1oMlf5NLa",
        "outputId": "b8af8713-6067-4260-af98-801af5a5d058"
      },
      "execution_count": 16,
      "outputs": [
        {
          "output_type": "stream",
          "name": "stdout",
          "text": [
            "poem2.txt  poem.txt  poem.txt.1  poem.txt.2  PPAP2.txt  PPAP.txt  \u001b[0m\u001b[01;34msample_data\u001b[0m/\n"
          ]
        }
      ]
    },
    {
      "cell_type": "code",
      "source": [
        "cat poem.txt"
      ],
      "metadata": {
        "colab": {
          "base_uri": "https://localhost:8080/"
        },
        "id": "fF05BuI15QHx",
        "outputId": "c698fb88-e78a-432d-d345-08d5093ea4ad"
      },
      "execution_count": 17,
      "outputs": [
        {
          "output_type": "stream",
          "name": "stdout",
          "text": [
            "\n",
            "鳳凰臺上鳳凰遊，鳳去臺空江自流。\n",
            "吳宮花草埋幽徑，晉代衣冠成古邱。\n",
            "三山半落青又外，二水中分白鷺洲。\n",
            "總為浮雲能蔽日，長安不見使人愁。"
          ]
        }
      ]
    },
    {
      "cell_type": "code",
      "source": [
        "def replaceSymbols(string):\n",
        "    for char in string:\n",
        "        if char in \"~!@#$%^&()[]{},+-*|/?<>'.;:\\\"\":\n",
        "            string = string.replace(char, ' ')\n",
        "    return string        \n",
        "\n",
        "def counts(string):\n",
        "    wordlist = string.split()\n",
        "    for word in wordlist:\n",
        "        if word in result:\n",
        "            result[word] = result[word] + 1\n",
        "        else:\n",
        "            result[word] = 1\n",
        "\n",
        "fileObject = open(\"PPAP.txt\", \"r\")\n",
        "song = fileObject.read()\n",
        "fileObject.close()\n",
        "song\n"
      ],
      "metadata": {
        "colab": {
          "base_uri": "https://localhost:8080/",
          "height": 53
        },
        "id": "N0AoETCo6Gwy",
        "outputId": "24e34cff-0ba9-4d76-c273-8906e21ae20b"
      },
      "execution_count": 18,
      "outputs": [
        {
          "output_type": "execute_result",
          "data": {
            "text/plain": [
              "'I have a pen. I have an apple, Apple pen. I have a pen. I have pineapple. pineapple pen, Apple pen, Pineapple pen, Pen pineapple, apple pen.'"
            ],
            "application/vnd.google.colaboratory.intrinsic+json": {
              "type": "string"
            }
          },
          "metadata": {},
          "execution_count": 18
        }
      ]
    },
    {
      "cell_type": "code",
      "source": [
        "song.lower()"
      ],
      "metadata": {
        "colab": {
          "base_uri": "https://localhost:8080/",
          "height": 53
        },
        "id": "nBqYUlLT7nQ6",
        "outputId": "2a384c0f-e258-4383-e0eb-a33e2c67c52a"
      },
      "execution_count": 19,
      "outputs": [
        {
          "output_type": "execute_result",
          "data": {
            "text/plain": [
              "'i have a pen. i have an apple, apple pen. i have a pen. i have pineapple. pineapple pen, apple pen, pineapple pen, pen pineapple, apple pen.'"
            ],
            "application/vnd.google.colaboratory.intrinsic+json": {
              "type": "string"
            }
          },
          "metadata": {},
          "execution_count": 19
        }
      ]
    },
    {
      "cell_type": "code",
      "source": [
        "result = {}\n",
        "tmp = replaceSymbols(song.lower())\n",
        "tmp"
      ],
      "metadata": {
        "colab": {
          "base_uri": "https://localhost:8080/",
          "height": 53
        },
        "id": "HiNOJJq46_KC",
        "outputId": "5369efd9-d430-44b3-eb63-f20f67d55dc8"
      },
      "execution_count": 20,
      "outputs": [
        {
          "output_type": "execute_result",
          "data": {
            "text/plain": [
              "'i have a pen  i have an apple  apple pen  i have a pen  i have pineapple  pineapple pen  apple pen  pineapple pen  pen pineapple  apple pen '"
            ],
            "application/vnd.google.colaboratory.intrinsic+json": {
              "type": "string"
            }
          },
          "metadata": {},
          "execution_count": 20
        }
      ]
    },
    {
      "cell_type": "code",
      "source": [
        "counts(tmp)\n",
        "\n",
        "print(result)"
      ],
      "metadata": {
        "colab": {
          "base_uri": "https://localhost:8080/"
        },
        "id": "TwAAp9qv7AJx",
        "outputId": "bbe0325a-8ced-4065-adeb-ebf34e987c93"
      },
      "execution_count": 21,
      "outputs": [
        {
          "output_type": "stream",
          "name": "stdout",
          "text": [
            "{'i': 4, 'have': 4, 'a': 2, 'pen': 8, 'an': 1, 'apple': 4, 'pineapple': 4}\n"
          ]
        }
      ]
    },
    {
      "cell_type": "code",
      "source": [
        "import os\n",
        "dir = \"./photo\"\n",
        "if not os.path.exists(dir):\n",
        "    os.mkdir(dir)\n",
        "else:\n",
        "    print(\"此資料夾已經存在\")"
      ],
      "metadata": {
        "colab": {
          "base_uri": "https://localhost:8080/"
        },
        "id": "Do3_ixmfA9jR",
        "outputId": "21254846-49d4-4447-e327-9718adb5c901"
      },
      "execution_count": 24,
      "outputs": [
        {
          "output_type": "stream",
          "name": "stdout",
          "text": [
            "此資料夾已經存在\n"
          ]
        }
      ]
    },
    {
      "cell_type": "code",
      "source": [
        "ls"
      ],
      "metadata": {
        "colab": {
          "base_uri": "https://localhost:8080/"
        },
        "id": "Rk89UhnbA_Og",
        "outputId": "e6974c55-c719-4041-8f5b-a930e7a0f813"
      },
      "execution_count": 23,
      "outputs": [
        {
          "output_type": "stream",
          "name": "stdout",
          "text": [
            "\u001b[0m\u001b[01;34mphoto\u001b[0m/     poem.txt    poem.txt.2  PPAP.txt\n",
            "poem2.txt  poem.txt.1  PPAP2.txt   \u001b[01;34msample_data\u001b[0m/\n"
          ]
        }
      ]
    },
    {
      "cell_type": "code",
      "source": [
        "import os\n",
        "file = \"./poem.txt.1\"\n",
        "if os.path.exists(file):\n",
        "    os.remove(file)\n",
        "else:\n",
        "    print(\"此檔案不存在\")"
      ],
      "metadata": {
        "id": "X49s0cEkBnYx"
      },
      "execution_count": 25,
      "outputs": []
    },
    {
      "cell_type": "code",
      "source": [
        "ls"
      ],
      "metadata": {
        "colab": {
          "base_uri": "https://localhost:8080/"
        },
        "id": "ldGSahiIBs4I",
        "outputId": "513e5f93-dbce-4778-f7e0-dcd4d8adfe85"
      },
      "execution_count": 26,
      "outputs": [
        {
          "output_type": "stream",
          "name": "stdout",
          "text": [
            "\u001b[0m\u001b[01;34mphoto\u001b[0m/  poem2.txt  poem.txt  poem.txt.2  PPAP2.txt  PPAP.txt  \u001b[01;34msample_data\u001b[0m/\n"
          ]
        }
      ]
    },
    {
      "cell_type": "code",
      "source": [
        "cat poem2.txt"
      ],
      "metadata": {
        "colab": {
          "base_uri": "https://localhost:8080/"
        },
        "id": "3jkXLZVMB8dS",
        "outputId": "e6f3a076-d2ee-43a5-f22d-17fd187cc63d"
      },
      "execution_count": 28,
      "outputs": [
        {
          "output_type": "stream",
          "name": "stdout",
          "text": [
            "\n",
            "鳳凰臺上鳳凰遊，鳳去臺空江自流。\n",
            "吳宮花草埋幽徑，晉代衣冠成古邱。\n",
            "三山半落青又外，二水中分白鷺洲。\n",
            "總為浮雲能蔽日，長安不見使人愁。"
          ]
        }
      ]
    },
    {
      "cell_type": "code",
      "source": [
        "fileObject = open(\"poem2.txt\", \"r\")\n",
        "\n",
        "line = fileObject.readline()\n",
        "line"
      ],
      "metadata": {
        "colab": {
          "base_uri": "https://localhost:8080/",
          "height": 36
        },
        "id": "mtIWaOjaCMHp",
        "outputId": "b0b54ddd-6e3f-48d7-9686-3df502bc9a1b"
      },
      "execution_count": 29,
      "outputs": [
        {
          "output_type": "execute_result",
          "data": {
            "text/plain": [
              "'\\n'"
            ],
            "application/vnd.google.colaboratory.intrinsic+json": {
              "type": "string"
            }
          },
          "metadata": {},
          "execution_count": 29
        }
      ]
    },
    {
      "cell_type": "code",
      "source": [
        "fileObject = open(\"poem2.txt\", \"r\")\n",
        "\n",
        "line = fileObject.readline()\n",
        "while line != '':\n",
        "    print(line)\n",
        "    line = fileObject.readline()\n",
        "\n",
        "fileObject.close()"
      ],
      "metadata": {
        "colab": {
          "base_uri": "https://localhost:8080/"
        },
        "id": "cRkveRR5B7wR",
        "outputId": "aa0b8635-1bc7-4e94-c6c7-ed83afef770b"
      },
      "execution_count": 1,
      "outputs": [
        {
          "output_type": "stream",
          "name": "stdout",
          "text": [
            "\n",
            "\n",
            "鳳凰臺上鳳凰遊，鳳去臺空江自流。\n",
            "\n",
            "吳宮花草埋幽徑，晉代衣冠成古邱。\n",
            "\n",
            "三山半落青又外，二水中分白鷺洲。\n",
            "\n",
            "總為浮雲能蔽日，長安不見使人愁。\n"
          ]
        }
      ]
    },
    {
      "cell_type": "code",
      "source": [
        "#!/usr/bin/python\n",
        "# -*- coding: UTF-8 -*-\n",
        " \n",
        "# 打開文件\n",
        "fo = open(\"poem2.txt\", \"r\")\n",
        "print(\"檔案名為: \", fo.name)\n",
        " \n",
        "for line in fo.readlines():                          #依次讀取每行  \n",
        "    line = line.strip()                             #去掉每行頭尾空白  \n",
        "    print(\"讀取的數據為: %s\" % (line))\n",
        " \n",
        "# 關閉文件\n",
        "fo.close()"
      ],
      "metadata": {
        "colab": {
          "base_uri": "https://localhost:8080/"
        },
        "id": "pzTrJK7bC7nB",
        "outputId": "150ac527-07f2-4859-a036-a53135253ce8"
      },
      "execution_count": 3,
      "outputs": [
        {
          "output_type": "stream",
          "name": "stdout",
          "text": [
            "檔案名為:  poem2.txt\n",
            "讀取的數據為: \n",
            "讀取的數據為: 鳳凰臺上鳳凰遊，鳳去臺空江自流。\n",
            "讀取的數據為: 吳宮花草埋幽徑，晉代衣冠成古邱。\n",
            "讀取的數據為: 三山半落青又外，二水中分白鷺洲。\n",
            "讀取的數據為: 總為浮雲能蔽日，長安不見使人愁。\n"
          ]
        }
      ]
    },
    {
      "cell_type": "code",
      "source": [
        "fileObject = open(\"poem2.txt\", \"r\")\n",
        "\n",
        "content = fileObject.readlines()\n",
        "content"
      ],
      "metadata": {
        "colab": {
          "base_uri": "https://localhost:8080/"
        },
        "id": "v9obQXHMEMfZ",
        "outputId": "2379d2df-7532-4a43-b762-b3bd39390e47"
      },
      "execution_count": 4,
      "outputs": [
        {
          "output_type": "execute_result",
          "data": {
            "text/plain": [
              "['\\n',\n",
              " '鳳凰臺上鳳凰遊，鳳去臺空江自流。\\n',\n",
              " '吳宮花草埋幽徑，晉代衣冠成古邱。\\n',\n",
              " '三山半落青又外，二水中分白鷺洲。\\n',\n",
              " '總為浮雲能蔽日，長安不見使人愁。']"
            ]
          },
          "metadata": {},
          "execution_count": 4
        }
      ]
    },
    {
      "cell_type": "code",
      "source": [
        "fileObject = open(\"poem2.txt\", \"r\")\n",
        "\n",
        "content = fileObject.readlines()\n",
        "for line in content:\n",
        "    print(line)\n",
        "\n",
        "fileObject.close()"
      ],
      "metadata": {
        "colab": {
          "base_uri": "https://localhost:8080/"
        },
        "id": "wyCTo9EqERvI",
        "outputId": "6315d9f4-70cb-4dff-915d-97e01e925800"
      },
      "execution_count": 6,
      "outputs": [
        {
          "output_type": "stream",
          "name": "stdout",
          "text": [
            "\n",
            "\n",
            "鳳凰臺上鳳凰遊，鳳去臺空江自流。\n",
            "\n",
            "吳宮花草埋幽徑，晉代衣冠成古邱。\n",
            "\n",
            "三山半落青又外，二水中分白鷺洲。\n",
            "\n",
            "總為浮雲能蔽日，長安不見使人愁。\n"
          ]
        }
      ]
    }
  ]
}